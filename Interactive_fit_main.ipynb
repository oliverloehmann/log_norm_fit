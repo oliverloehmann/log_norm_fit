{
 "cells": [
  {
   "cell_type": "markdown",
   "metadata": {},
   "source": [
    "# Import Modules"
   ]
  },
  {
   "cell_type": "code",
   "execution_count": 1,
   "metadata": {},
   "outputs": [],
   "source": [
    "import ipywidgets as widgets\n",
    "from IPython.display import display\n",
    "import numpy as np\n",
    "import matplotlib.pyplot as plt\n",
    "import os\n",
    "from scipy.optimize import curve_fit\n",
    "%matplotlib widget\n",
    "from datetime import datetime\n",
    "import definitions as defs"
   ]
  },
  {
   "cell_type": "markdown",
   "metadata": {},
   "source": [
    "# Define definitions for widgets"
   ]
  },
  {
   "cell_type": "code",
   "execution_count": 2,
   "metadata": {},
   "outputs": [],
   "source": [
    "#Reset button\n",
    "def reset_values(b):\n",
    "    \"\"\"Reset the interactive plots to inital values.\"\"\"\n",
    "    for i, p in enumerate(start_parameter):\n",
    "        interactive_plot.children[i].value = p\n",
    "\n",
    "#display of the initial guess\n",
    "def print_out(center, sigma, scale):\n",
    "    print(center,sigma,scale)\n",
    "        \n",
    "# Fit button\n",
    "def run_fit(button):\n",
    "    global params, pcov\n",
    "    if numbers.value == '1':\n",
    "        params, pcov = curve_fit(defs.log_norm_func1, d[index_left:index_right+1], y_values[index_left:index_right+1], p0=parameter_set, sigma = y_error[index_left:index_right+1], method ='trf')\n",
    "    elif numbers.value == '2':\n",
    "        params, pcov = curve_fit(defs.log_norm_func2, d[index_left:index_right+1], y_values[index_left:index_right+1], p0=parameter_set, sigma = y_error[index_left:index_right+1], method ='trf')\n",
    "    elif numbers.value == '3':\n",
    "        params, pcov = curve_fit(defs.log_norm_func3, d[index_left:index_right+1], y_values[index_left:index_right+1], p0=parameter_set, sigma = y_error[index_left:index_right+1], method ='trf')\n",
    "    elif numbers.value == '4':\n",
    "        params, pcov = curve_fit(defs.log_norm_func4, d[index_left:index_right+1], y_values[index_left:index_right+1], p0=parameter_set, sigma = y_error[index_left:index_right+1], method ='trf')\n",
    "    elif numbers.value == '5':\n",
    "        params, pcov = curve_fit(defs.log_norm_func5, d[index_left:index_right+1], y_values[index_left:index_right+1], p0=parameter_set, sigma = y_error[index_left:index_right+1], method ='trf')\n",
    "    \n",
    "    with fit_results:\n",
    "        if x50 == []:\n",
    "            for i in range(int(numbers.value)):\n",
    "                x50.append(np.exp(params[0+3*i]))\n",
    "                sigma_s.append(np.exp(params[1+3*i]))\n",
    "            if numbers.value == '1':\n",
    "                print('Median1/nm: %.1f, Sigma: %.2f' %(x50[0], sigma_s[0]))\n",
    "                textstr = '\\n'.join((\n",
    "                    '$d_{50}/nm$\\t $\\sigma_g$',\n",
    "                    '$%.1f$\\t \\t $%.2f$' %(x50[0], sigma_s[0])))\n",
    "                fit_lines[0].set_ydata(defs.log_norm_func1(x_fit, *params))\n",
    "                ax2.fill_between(x_fit,defs.log_norm_func1(x_fit,*params[0:3]),  facecolor=\"red\", alpha=0.5)\n",
    "\n",
    "            elif numbers.value == '2':\n",
    "                print('Median1/nm: %.1f, Sigma: %.2f' %(x50[0], sigma_s[0]))\n",
    "                print('Median2/nm: %.1f, Sigma: %.2f' %(x50[1], sigma_s[1]))\n",
    "                textstr = '\\n'.join((\n",
    "                    '$d_{50}/nm$\\t $\\sigma_g$',\n",
    "                    '$%.1f$\\t \\t $%.2f$' %(x50[0], sigma_s[0]),\n",
    "                    '$%.1f$\\t \\t $%.2f$' %(x50[1], sigma_s[1])))\n",
    "                fit_lines[0].set_ydata(defs.log_norm_func2(x_fit, *params))\n",
    "                ax2.fill_between(x_fit,defs.log_norm_func1(x_fit,*params[0:3]),  facecolor=\"red\", alpha=0.5)\n",
    "                ax2.fill_between(x_fit,defs.log_norm_func1(x_fit,*params[3:6]),  facecolor=\"yellow\", alpha=0.5)\n",
    "\n",
    "            elif numbers.value == '3':\n",
    "                print('Median1/nm: %.1f, Sigma: %.2f' %(x50[0], sigma_s[0]))\n",
    "                print('Median2/nm: %.1f, Sigma: %.2f' %(x50[1], sigma_s[1]))\n",
    "                print('Median3/nm: %.1f, Sigma: %.2f' %(x50[2], sigma_s[2]))\n",
    "                textstr = '\\n'.join((\n",
    "                    '$d_{50}/nm$\\t $\\sigma_g$',\n",
    "                    '$%.1f$\\t \\t $%.2f$' %(x50[0], sigma_s[0]),\n",
    "                    '$%.1f$\\t \\t $%.2f$' %(x50[1], sigma_s[1]),\n",
    "                    '$%.1f$\\t \\t $%.2f$' %(x50[2], sigma_s[2])))\n",
    "                fit_lines[0].set_ydata(defs.log_norm_func3(x_fit, *params))\n",
    "                ax2.fill_between(x_fit,defs.log_norm_func1(x_fit,*params[0:3]),  facecolor=\"red\", alpha=0.5)\n",
    "                ax2.fill_between(x_fit,defs.log_norm_func1(x_fit,*params[3:6]),  facecolor=\"yellow\", alpha=0.5)\n",
    "                ax2.fill_between(x_fit,defs.log_norm_func1(x_fit,*params[6:9]),  facecolor=\"cyan\", alpha=0.5)\n",
    "\n",
    "            elif numbers.value == '4':\n",
    "                print('Median1/nm: %.1f, Sigma: %.2f' %(x50[0], sigma_s[0]))\n",
    "                print('Median2/nm: %.1f, Sigma: %.2f' %(x50[1], sigma_s[1]))\n",
    "                print('Median3/nm: %.1f, Sigma: %.2f' %(x50[2], sigma_s[2]))\n",
    "                print('Median4/nm: %.1f, Sigma: %.2f' %(x50[3], sigma_s[3]))\n",
    "                textstr = '\\n'.join((\n",
    "                    '$d_{50}/nm$\\t $\\sigma_g$',\n",
    "                    '$%.1f$\\t \\t $%.2f$' %(x50[0], sigma_s[0]),\n",
    "                    '$%.1f$\\t \\t $%.2f$' %(x50[1], sigma_s[1]),\n",
    "                    '$%.1f$\\t \\t $%.2f$' %(x50[2], sigma_s[2]),\n",
    "                    '$%.1f$\\t \\t $%.2f$' %(x50[3], sigma_s[3])))\n",
    "                fit_lines[0].set_ydata(defs.log_norm_func4(x_fit, *params))\n",
    "                ax2.fill_between(x_fit,defs.log_norm_func1(x_fit,*params[0:3]),  facecolor=\"red\", alpha=0.5)\n",
    "                ax2.fill_between(x_fit,defs.log_norm_func1(x_fit,*params[3:6]),  facecolor=\"yellow\", alpha=0.5)\n",
    "                ax2.fill_between(x_fit,defs.log_norm_func1(x_fit,*params[6:9]),  facecolor=\"cyan\", alpha=0.5)\n",
    "                ax2.fill_between(x_fit,defs.log_norm_func1(x_fit,*params[9:]),  facecolor=\"magenta\", alpha=0.5)\n",
    "            elif numbers.value == '5':\n",
    "                print('Median1/nm: %.1f, Sigma: %.2f' %(x50[0], sigma_s[0]))\n",
    "                print('Median2/nm: %.1f, Sigma: %.2f' %(x50[1], sigma_s[1]))\n",
    "                print('Median3/nm: %.1f, Sigma: %.2f' %(x50[2], sigma_s[2]))\n",
    "                print('Median4/nm: %.1f, Sigma: %.2f' %(x50[3], sigma_s[3]))\n",
    "                print('Median5/nm: %.1f, Sigma: %.2f' %(x50[4], sigma_s[4]))\n",
    "                textstr = '\\n'.join((\n",
    "                    '$d_{50}/nm$\\t $\\sigma_g$',\n",
    "                    '$%.1f$\\t \\t $%.2f$' %(x50[0], sigma_s[0]),\n",
    "                    '$%.1f$\\t \\t $%.2f$' %(x50[1], sigma_s[1]),\n",
    "                    '$%.1f$\\t \\t $%.2f$' %(x50[2], sigma_s[2]),\n",
    "                    '$%.1f$\\t \\t $%.2f$' %(x50[3], sigma_s[3]),\n",
    "                    '$%.1f$\\t \\t $%.2f$' %(x50[4], sigma_s[4])))\n",
    "                fit_lines[0].set_ydata(defs.log_norm_func5(x_fit, *params))\n",
    "                ax2.fill_between(x_fit,defs.log_norm_func1(x_fit,*params[0:3]),  facecolor=\"red\", alpha=0.5)\n",
    "                ax2.fill_between(x_fit,defs.log_norm_func1(x_fit,*params[3:6]),  facecolor=\"yellow\", alpha=0.5)\n",
    "                ax2.fill_between(x_fit,defs.log_norm_func1(x_fit,*params[6:9]),  facecolor=\"cyan\", alpha=0.5)\n",
    "                ax2.fill_between(x_fit,defs.log_norm_func1(x_fit,*params[9:12]),  facecolor=\"magenta\", alpha=0.5)\n",
    "                ax2.fill_between(x_fit,defs.log_norm_func1(x_fit,*params[12:]),  facecolor=\"chocolate\", alpha=0.5)\n",
    "                \n",
    "            ax2.text(0.755, 0.82, textstr, transform=ax2.transAxes, fontsize=10,verticalalignment='top', bbox={'facecolor': 'white', 'boxstyle':'round','pad':0.3,'edgecolor':'black', 'lw':0.8})\n",
    "\n",
    "        else:\n",
    "            fit_results.clear_output()\n",
    "            print('You fitted the data! Restart block to fit again!')\n",
    "\n",
    "# Save button\n",
    "def save_data(button):\n",
    "    if saved.outputs == ():\n",
    "        if not os.path.exists(os.path.join('results/')):\n",
    "            os.makedirs(os.path.join('results/'))\n",
    "        plt.savefig(os.path.join('results/', file_name +'_'+ date +'_fit_run'+str(select.value)+'.png'))\n",
    "        with saved:\n",
    "             print('Data saved!')\n",
    "        if not os.path.exists(os.path.join('results/', file_name + '_'+ date +'_results.txt')):\n",
    "            with open(os.path.join('results/', file_name + '_'+ date +'_results.txt'), 'w+') as exports:\n",
    "                if numbers.value == '1':\n",
    "                    exports.write('Run' + '\\t' + 'd50_1' + '\\t' + 'Sigma1' + '\\n')\n",
    "                    exports.write(str(select.value) + '\\t' + str(np.round(x50[0],2)) + '\\t' + str(np.round(sigma_s[0],2)) + '\\n' )\n",
    "\n",
    "                if numbers.value == '2':\n",
    "                    exports.write('Run' + '\\t' + 'd50_1' + '\\t' + 'Sigma1' + '\\t' + 'd50_2' + '\\t' + 'Sigma2' + '\\n')\n",
    "                    exports.write(str(select.value) + '\\t' + str(np.round(x50[0],2)) + '\\t' + str(np.round(sigma_s[0],2)) + '\\t' + str(np.round(x50[1],2)) + '\\t' + str(np.round(sigma_s[1],2)) + '\\n' )\n",
    "\n",
    "                if numbers.value == '3':\n",
    "                    exports.write('Run' + '\\t' + 'd50_1' + '\\t' + 'Sigma1' + '\\t' + 'd50_2' + '\\t' + 'Sigma2'+ '\\t' + 'd50_3' + '\\t' + 'Sigma3'+ '\\n')\n",
    "                    exports.write(str(select.value) + '\\t' + str(np.round(x50[0],2)) + '\\t' + str(np.round(sigma_s[0],2)) + '\\t' + str(np.round(x50[1],2)) + '\\t' + str(np.round(sigma_s[1],2))+ '\\t' + str(np.round(x50[2],2)) + '\\t' + str(np.round(sigma_s[2],2)) + '\\n' )\n",
    "\n",
    "                if numbers.value == '4':\n",
    "                    exports.write('Run' + '\\t' + 'd50_1' + '\\t' + 'Sigma1' + '\\t' + 'd50_2' + '\\t' + 'Sigma2'+ '\\t' + 'd50_3' + '\\t' + 'Sigma3'+ '\\t' + 'd50_4' + '\\t' + 'Sigma4' + '\\n')\n",
    "                    exports.write(str(select.value) + '\\t' + str(np.round(x50[0],2)) + '\\t' + str(np.round(sigma_s[0],2)) + '\\t' + str(np.round(x50[1],2)) + '\\t' + str(np.round(sigma_s[1],2))+ '\\t' + str(np.round(x50[2],2)) + '\\t' + str(np.round(sigma_s[2],2))+ '\\t' + str(np.round(x50[3],2)) + '\\t' + str(np.round(sigma_s[3],2)) + '\\n' )\n",
    "                if numbers.value == '5':\n",
    "                    exports.write('Run' + '\\t' + 'd50_1' + '\\t' + 'Sigma1' + '\\t' + 'd50_2' + '\\t' + 'Sigma2'+ '\\t' + 'd50_3' + '\\t' + 'Sigma3'+ '\\t' + 'd50_4' + '\\t' + 'Sigma4'+ '\\t' + 'd50_5' + '\\t' + 'Sigma5' + '\\n')\n",
    "                    exports.write(str(select.value) + '\\t' + str(np.round(x50[0],2)) + '\\t' + str(np.round(sigma_s[0],2)) + '\\t' + str(np.round(x50[1],2)) + '\\t' + str(np.round(sigma_s[1],2))+ '\\t' + str(np.round(x50[2],2)) + '\\t' + str(np.round(sigma_s[2],2))+ '\\t' + str(np.round(x50[3],2)) + '\\t' + str(np.round(sigma_s[3],2))+ '\\t' + str(np.round(x50[4],2)) + '\\t' + str(np.round(sigma_s[4],2)) + '\\n' )\n",
    "\n",
    "        else:\n",
    "            with open(os.path.join('results/', file_name + '_'+ date +'_results.txt'), 'a') as exports:\n",
    "                if numbers.value == '1':\n",
    "                    exports.write(str(select.value) + '\\t' + str(np.round(x50[0],2)) + '\\t' + str(np.round(sigma_s[0],2)) + '\\n' )\n",
    "\n",
    "                if numbers.value == '2':\n",
    "                    exports.write(str(select.value) + '\\t' + str(np.round(x50[0],2)) + '\\t' + str(np.round(sigma_s[0],2)) + '\\t' + str(np.round(x50[1],2)) + '\\t' + str(np.round(sigma_s[1],2)) + '\\n' )\n",
    "\n",
    "                if numbers.value == '3':\n",
    "                    exports.write(str(select.value) + '\\t' + str(np.round(x50[0],2)) + '\\t' + str(np.round(sigma_s[0],2)) + '\\t' + str(np.round(x50[1],2)) + '\\t' + str(np.round(sigma_s[1],2))+ '\\t' + str(np.round(x50[2],2)) + '\\t' + str(np.round(sigma_s[2],2)) + '\\n' )\n",
    "\n",
    "                if numbers.value == '4':\n",
    "                    exports.write(str(select.value) + '\\t' + str(np.round(x50[0],2)) + '\\t' + str(np.round(sigma_s[0],2)) + '\\t' + str(np.round(x50[1],2)) + '\\t' + str(np.round(sigma_s[1],2))+ '\\t' + str(np.round(x50[2],2)) + '\\t' + str(np.round(sigma_s[2],2))+ '\\t' + str(np.round(x50[3],2)) + '\\t' + str(np.round(sigma_s[3],2)) + '\\n' )\n",
    "                if numbers.value == '5':\n",
    "                    exports.write(str(select.value) + '\\t' + str(np.round(x50[0],2)) + '\\t' + str(np.round(sigma_s[0],2)) + '\\t' + str(np.round(x50[1],2)) + '\\t' + str(np.round(sigma_s[1],2))+ '\\t' + str(np.round(x50[2],2)) + '\\t' + str(np.round(sigma_s[2],2))+ '\\t' + str(np.round(x50[3],2)) + '\\t' + str(np.round(sigma_s[3],2))+ '\\t' + str(np.round(x50[4],2)) + '\\t' + str(np.round(sigma_s[4],2)) + '\\n' )\n",
    "\n",
    "    else:\n",
    "        with saved:\n",
    "            saved.clear_output()\n",
    "            print('Data already saved!')"
   ]
  },
  {
   "cell_type": "markdown",
   "metadata": {},
   "source": [
    "# Load Data\n",
    "\n",
    "<font color='red'>Choose the path, date of measurement and file name. Look up the number of header lines, data points and data sets.</font>"
   ]
  },
  {
   "cell_type": "code",
   "execution_count": 3,
   "metadata": {},
   "outputs": [],
   "source": [
    "'''This part has to be updated to the current measurement file'''\n",
    "\n",
    "#path = 'm:/Messdaten/SMPS/SiO2_standard/kriss_301-04-002'\n",
    "#date = '2020-11-17'\n",
    "#file_name ='kriss_301-04-002_002'\n",
    "file_name = 'example_data'\n",
    "now = datetime.now()\n",
    "date =now.strftime(\"%Y-%m-%d-%Y\")\n",
    "\n",
    "header = 34\n",
    "datapoints = 43\n",
    "no_data_sets = 3\n",
    "\n",
    "'''Up to here'''\n",
    "\n",
    "#with open(os.path.join(path,date +'/','Exports/', file_name + '.txt')) as data_file:\n",
    "with open(os.path.join(file_name + '.txt')) as data_file:\n",
    "    data = np.loadtxt(data_file,unpack=True, skiprows = header, max_rows=datapoints)\n",
    "    \n",
    "d = data[0] #define colum of diameter\n",
    "data_used = data[1:] #define respective data sets; 0 is the diameter\n",
    "\n",
    "#normalization to total counts\n",
    "for j in range(data_used.__len__()):\n",
    "    summed = 0\n",
    "    for i in range(len(d)):\n",
    "        summed = summed+ data_used[j][i]\n",
    "    data_used[j][:]= (data_used[j][:]/summed)\n",
    "\n",
    "sets=[] #list for the number of data sets\n",
    "for i in range(len(data_used)):\n",
    "    sets.append(i+1)"
   ]
  },
  {
   "cell_type": "markdown",
   "metadata": {},
   "source": [
    "# Interactive Plot for Setting Parameters\n",
    "\n",
    "<font color='red'>Determine roughly the values for each peak, set the numbers of peaks and the fitting range.</font>"
   ]
  },
  {
   "cell_type": "code",
   "execution_count": 4,
   "metadata": {},
   "outputs": [
    {
     "data": {
      "application/vnd.jupyter.widget-view+json": {
       "model_id": "02dcbb77375e4a0fb054bd91d479437a",
       "version_major": 2,
       "version_minor": 0
      },
      "text/plain": [
       "Canvas(toolbar=Toolbar(toolitems=[('Home', 'Reset original view', 'home', 'home'), ('Back', 'Back to previous …"
      ]
     },
     "metadata": {},
     "output_type": "display_data"
    },
    {
     "data": {
      "application/vnd.jupyter.widget-view+json": {
       "model_id": "f3e25dd145294fd3902f59d3f9607067",
       "version_major": 2,
       "version_minor": 0
      },
      "text/plain": [
       "interactive(children=(FloatSlider(value=3.569729205177512, description='Center', max=5.0, min=1.0, step=0.01),…"
      ]
     },
     "metadata": {},
     "output_type": "display_data"
    },
    {
     "data": {
      "application/vnd.jupyter.widget-view+json": {
       "model_id": "4e59660c9b044ee599b1b8287b5acd29",
       "version_major": 2,
       "version_minor": 0
      },
      "text/plain": [
       "HBox(children=(Button(description='Reset', style=ButtonStyle()), Dropdown(description='# peaks:', options=('1'…"
      ]
     },
     "metadata": {},
     "output_type": "display_data"
    },
    {
     "data": {
      "application/vnd.jupyter.widget-view+json": {
       "model_id": "b2ece44820c441d599a762d3850b1cb8",
       "version_major": 2,
       "version_minor": 0
      },
      "text/plain": [
       "Output()"
      ]
     },
     "metadata": {},
     "output_type": "display_data"
    }
   ],
   "source": [
    "start_parameter=[np.log(np.mean(d)), 0.06, 1,(d[0],d[-1])] # initial parameters\n",
    "x_dummies = np.linspace(d[0],d[-1],200)\n",
    "\n",
    "# Interactive plot\n",
    "def interactive_plot(center, sigma, scale, sli_range):\n",
    "    log_func[0].set_ydata(defs.log_norm_func1(x_dummies, center, sigma, scale))\n",
    "    left_bound.set_xdata(sli_range[0])\n",
    "    right_bound.set_xdata(sli_range[1])\n",
    "\n",
    "fig, ax = plt.subplots()\n",
    "data_plot = ax.bar(d, data_used[0], width = d/40)\n",
    "log_func = ax.plot(x_dummies, defs.log_norm_func1(x_dummies,*start_parameter[0:3]), color ='tab:orange')\n",
    "left_bound =ax.axvline(d[0], color ='tab:red')\n",
    "right_bound =ax.axvline(d[-1], color ='tab:red')\n",
    "ax.set_xlim(0.9*d[0],1.1*d[-1])\n",
    "#ax.set_ylim(0,np.amax(data_used[0][:]))\n",
    "\n",
    "interactive_plot = widgets.interactive(interactive_plot,sli_range =widgets.FloatRangeSlider(value=[d[0], d[-1]],min=d[0],max=d[-1],step=0.5,description='Range',readout_format='.1f'), center=widgets.FloatSlider(min = 1.0, max = 5.0, step = 0.01, value = start_parameter[0],description='Center'), sigma=widgets.FloatSlider(min = 0.01, max = 0.5, step = 0.01, value = start_parameter[1],description='Sigma'), scale=widgets.FloatSlider(min = 0.01, max = 2, value = start_parameter[2],step = 0.01,description='Scale'))\n",
    "numbers = widgets.Dropdown(options=['1', '2', '3', '4', '5'], value='1', description='# peaks:')\n",
    "reset_button = widgets.Button(description = \"Reset\")\n",
    "reset_button.on_click(reset_values)\n",
    "display(interactive_plot)\n",
    "display(widgets.HBox([reset_button,numbers]))\n",
    "\n",
    "center = interactive_plot.children[0]\n",
    "sigma = interactive_plot.children[1]\n",
    "scale = interactive_plot.children[2]\n",
    "\n",
    "out = widgets.interactive_output(print_out, {'center': center, 'sigma':sigma,'scale':scale})\n",
    "display(out)"
   ]
  },
  {
   "cell_type": "markdown",
   "metadata": {},
   "source": [
    "# Get Set of Start Parameters for Fitting\n",
    "\n",
    "<font color='red'>Copy the values to the respective peak position.</font>"
   ]
  },
  {
   "cell_type": "code",
   "execution_count": 5,
   "metadata": {},
   "outputs": [],
   "source": [
    "def get_parameter(number):\n",
    "    if number == '1':\n",
    "        parameter_set = [2.69, 0.07, 0.41]\n",
    "    elif number == '2':\n",
    "        parameter_set = [3.11, 0.04, 0.51, 3.39, 0.04, 0.32]\n",
    "    elif number == '3':\n",
    "        parameter_set = [3.11, 0.04, 0.51, 3.39, 0.04, 0.32, 3.56, 0.04, 0.1]\n",
    "    elif number == '4':\n",
    "        parameter_set = [3.11, 0.04, 0.51, 3.39, 0.04, 0.32, 3.56, 0.04, 0.1, 3.7, 0.06, 0.06] # start values for fitting\n",
    "    elif number == '5':\n",
    "        parameter_set = [3.11, 0.04, 0.51, 3.39, 0.04, 0.32, 3.56, 0.04, 0.1, 3.7, 0.05, 0.06, 3.82, 0.04, 0.03] # start values for fitting\n",
    "    else:\n",
    "        print('Wrong input')\n",
    "    return parameter_set\n",
    "parameter_set = get_parameter(numbers.value)"
   ]
  },
  {
   "cell_type": "markdown",
   "metadata": {},
   "source": [
    "# Select Data"
   ]
  },
  {
   "cell_type": "code",
   "execution_count": 6,
   "metadata": {},
   "outputs": [
    {
     "data": {
      "application/vnd.jupyter.widget-view+json": {
       "model_id": "1950e081195f4630bfa8f394e25c0fbf",
       "version_major": 2,
       "version_minor": 0
      },
      "text/plain": [
       "Dropdown(description='Data set:', options=(1, 2, 3), value=1)"
      ]
     },
     "metadata": {},
     "output_type": "display_data"
    }
   ],
   "source": [
    "select = widgets.Dropdown(options=sets, description='Data set:', value = sets[0])\n",
    "display(select)"
   ]
  },
  {
   "cell_type": "markdown",
   "metadata": {},
   "source": [
    "# Fit Log Norm Function to Data"
   ]
  },
  {
   "cell_type": "code",
   "execution_count": 7,
   "metadata": {},
   "outputs": [
    {
     "data": {
      "application/vnd.jupyter.widget-view+json": {
       "model_id": "d069859a2d36402ba301d082a4f3ca11",
       "version_major": 2,
       "version_minor": 0
      },
      "text/plain": [
       "Canvas(toolbar=Toolbar(toolitems=[('Home', 'Reset original view', 'home', 'home'), ('Back', 'Back to previous …"
      ]
     },
     "metadata": {},
     "output_type": "display_data"
    },
    {
     "data": {
      "application/vnd.jupyter.widget-view+json": {
       "model_id": "2f3f1c94e90f4584be48bf139216cdea",
       "version_major": 2,
       "version_minor": 0
      },
      "text/plain": [
       "HBox(children=(Button(button_style='success', description='Fit!', style=ButtonStyle()), Output()))"
      ]
     },
     "metadata": {},
     "output_type": "display_data"
    },
    {
     "data": {
      "application/vnd.jupyter.widget-view+json": {
       "model_id": "ea2aff99c0c24d83ae6cc6f0d3e90461",
       "version_major": 2,
       "version_minor": 0
      },
      "text/plain": [
       "HBox(children=(Button(button_style='warning', description='Save!', style=ButtonStyle()), Output()))"
      ]
     },
     "metadata": {},
     "output_type": "display_data"
    }
   ],
   "source": [
    "#clear lists\n",
    "x50 = [] \n",
    "sigma_s = []\n",
    "\n",
    "# define the fitting range\n",
    "d_range = [interactive_plot.kwargs['sli_range'][0],interactive_plot.kwargs['sli_range'][1]]\n",
    "index_left = (np.abs(d_range[0]-d)).argmin()\n",
    "index_right = (np.abs(d_range[1]-d)).argmin()\n",
    "x_fit = np.linspace(d[index_left],d[index_right],200)\n",
    "\n",
    "#set y values and calculate error in y\n",
    "y_values = data_used[select.value-1]\n",
    "y_error = 1/np.sqrt(y_values)\n",
    "\n",
    "#plot data and fits\n",
    "fig2, ax2 = plt.subplots()\n",
    "data_plot2 = ax2.bar(d, data_used[select.value-1], label ='Data', width = d/40)\n",
    "if numbers.value == '1':\n",
    "    fit_lines = ax2.plot(x_fit, defs.log_norm_func1(x_fit, *parameter_set), '-', label='fit', color = 'tab:orange')\n",
    "if numbers.value == '2':\n",
    "    fit_lines = ax2.plot(x_fit, defs.log_norm_func2(x_fit, *parameter_set), '-', label='fit', color = 'tab:orange')\n",
    "if numbers.value == '3':\n",
    "    fit_lines = ax2.plot(x_fit, defs.log_norm_func3(x_fit, *parameter_set), '-', label='fit', color = 'tab:orange')\n",
    "if numbers.value == '4':\n",
    "    fit_lines = ax2.plot(x_fit, defs.log_norm_func4(x_fit, *parameter_set), '-', label='fit', color = 'tab:orange')\n",
    "if numbers.value == '5':\n",
    "    fit_lines = ax2.plot(x_fit, defs.log_norm_func5(x_fit, *parameter_set), '-', label='fit', color = 'tab:orange')\n",
    "ax2.set_ylim(0,np.amax(y_values)+0.05*np.amax(y_values))\n",
    "ax2.set_xlim(0.9*d[0],1.1*d[-1])\n",
    "ax2.set_xlabel('Diameter/nm')\n",
    "ax2.set_ylabel('Fraction')\n",
    "ax2.legend(edgecolor='black')\n",
    "\n",
    "fit_results = widgets.Output()\n",
    "run_fit_button = widgets.Button(description = \"Fit!\",button_style ='success')\n",
    "run_fit_button.on_click(run_fit)\n",
    "saved = widgets.Output()\n",
    "save_button = widgets.Button(description = 'Save!', button_style = 'warning')\n",
    "save_button.on_click(save_data)\n",
    "\n",
    "display(widgets.HBox([run_fit_button, fit_results]))\n",
    "display(widgets.HBox([save_button, saved]))"
   ]
  },
  {
   "cell_type": "code",
   "execution_count": 8,
   "metadata": {},
   "outputs": [],
   "source": [
    "#import scipy.integrate as integrate\n",
    "\n",
    "#integral=[]\n",
    "#integral.append(integrate.quad(defs.log_norm_func1 ,d[index_left],d[index_right], args=(params[0],params[1],params[2])))\n",
    "#integral.append(integrate.quad(defs.log_norm_func1 ,d[index_left],d[index_right], args=(params[3],params[4],params[5])))\n",
    "#integral.append(integrate.quad(defs.log_norm_func1 ,d[index_left],d[index_right], args=(params[6],params[7],params[8])))\n",
    "#integral.append(integrate.quad(defs.log_norm_func1 ,d[index_left],d[index_right], args=(params[9],params[10],params[11])))\n",
    "#integral.append(integrate.quad(defs.log_norm_func1 ,d[index_left],d[index_right], args=(params[12],params[13],params[14])))\n",
    "\n",
    "#for i in range(5):\n",
    "#    value1  = integral[i][0]/integral[0][0]\n",
    "#    value2 = params[2+3*i]/params[2]\n",
    "#    print('%.6f, %.6f'%(value1,value2))\n",
    "#    print(' ')\n"
   ]
  },
  {
   "cell_type": "code",
   "execution_count": 9,
   "metadata": {},
   "outputs": [],
   "source": [
    "#for i in range(15):\n",
    "#    print(params[i])"
   ]
  },
  {
   "cell_type": "code",
   "execution_count": 10,
   "metadata": {},
   "outputs": [],
   "source": [
    "#print(type(data))"
   ]
  },
  {
   "cell_type": "code",
   "execution_count": null,
   "metadata": {},
   "outputs": [],
   "source": []
  }
 ],
 "metadata": {
  "kernelspec": {
   "display_name": "Python 3",
   "language": "python",
   "name": "python3"
  },
  "language_info": {
   "codemirror_mode": {
    "name": "ipython",
    "version": 3
   },
   "file_extension": ".py",
   "mimetype": "text/x-python",
   "name": "python",
   "nbconvert_exporter": "python",
   "pygments_lexer": "ipython3",
   "version": "3.8.5"
  }
 },
 "nbformat": 4,
 "nbformat_minor": 4
}
