{
 "cells": [
  {
   "cell_type": "code",
   "execution_count": 1,
   "metadata": {},
   "outputs": [],
   "source": [
    "import ipywidgets as widgets\n",
    "#from IPython.display import display\n",
    "import numpy as np\n",
    "import matplotlib.pyplot as plt\n",
    "import os\n",
    "from scipy.optimize import curve_fit\n",
    "%matplotlib widget\n",
    "import pandas as pd"
   ]
  },
  {
   "cell_type": "code",
   "execution_count": 17,
   "metadata": {},
   "outputs": [],
   "source": [
    "data = pd.read_excel('data_droplets.xlsx', sheet_name = 'Data', index_col = 0)\n",
    "data.sort_values(by=['Q/k'], inplace=True)\n",
    "x = np.log(data['Q/k'].values)\n",
    "y = np.log(data['Droplet Size [nm]'].values)\n",
    "#err_y = np.log(data['Deviation Droplets'])\n",
    "\n",
    "data_0500 = data.filter(like='0500', axis=0)\n",
    "data_1500 = data.filter(like='1500', axis=0)\n",
    "data_2000 = data.filter(like='2000', axis=0)\n",
    "data_2500 = data.filter(like='2500', axis=0)\n",
    "data_5000 = data.filter(like='5000', axis=0)"
   ]
  },
  {
   "cell_type": "code",
   "execution_count": 18,
   "metadata": {},
   "outputs": [
    {
     "name": "stdout",
     "output_type": "stream",
     "text": [
      "[0.39382934 2.23183851]\n"
     ]
    }
   ],
   "source": [
    "def lin_func(x,m,n):\n",
    "    return m*x+n\n",
    "\n",
    "#popt, pcov = curve_fit(lin_func,x,y,sigma = err_y,absolute_sigma = True)\n",
    "popt, pcov = curve_fit(lin_func,x,y)\n",
    "#perr = np.sqrt(np.diag(pcov))\n",
    "print(popt)\n",
    "#print(perr)"
   ]
  },
  {
   "cell_type": "code",
   "execution_count": 19,
   "metadata": {},
   "outputs": [
    {
     "data": {
      "application/vnd.jupyter.widget-view+json": {
       "model_id": "24ef55aee28a4ea59ff7601af8868c54",
       "version_major": 2,
       "version_minor": 0
      },
      "text/plain": [
       "Canvas(toolbar=Toolbar(toolitems=[('Home', 'Reset original view', 'home', 'home'), ('Back', 'Back to previous …"
      ]
     },
     "metadata": {},
     "output_type": "display_data"
    }
   ],
   "source": [
    "fig1, ax1 = plt.subplots()\n",
    "#data.plot(x = \"(Q/k)^1/2\",y = 'Droplet Size [nm]', yerr = 'Deviation Droplets' ,kind = 'scatter', ax = ax1)\n",
    "ax1.plot(x,y, linestyle = 'none',marker = 'o')\n",
    "#ax1.set_xscale('log')\n",
    "ax1.set_xlabel('$ln(Q/\\kappa)$')\n",
    "ax1.set_ylabel('$ln(D_{Droplet})$')\n",
    "ax1.plot(x,lin_func(x,popt[0],popt[1]),'-', label ='linear fit: m = %.4f, n = %.4f' %(popt[0],popt[1]))\n",
    "ax1.legend(loc=2)\n",
    "plt.show()"
   ]
  },
  {
   "cell_type": "code",
   "execution_count": 23,
   "metadata": {},
   "outputs": [
    {
     "name": "stdout",
     "output_type": "stream",
     "text": [
      "[-30.74545877  18.50422826]\n",
      "[53.90236774  4.61274323]\n"
     ]
    }
   ],
   "source": [
    "def pot_func(x,a,b):\n",
    "    return a + b*x**(1/3)\n",
    "\n",
    "popt2, pcov2 = curve_fit(pot_func,data['Q/k'].values,data['Droplet Size [nm]'].values)\n",
    "perr2 = np.sqrt(np.diag(pcov2))\n",
    "print(popt2)\n",
    "print(perr2)"
   ]
  },
  {
   "cell_type": "code",
   "execution_count": 25,
   "metadata": {},
   "outputs": [
    {
     "data": {
      "application/vnd.jupyter.widget-view+json": {
       "model_id": "10aff390bcf847e49cf6184d3ecceefb",
       "version_major": 2,
       "version_minor": 0
      },
      "text/plain": [
       "Canvas(toolbar=Toolbar(toolitems=[('Home', 'Reset original view', 'home', 'home'), ('Back', 'Back to previous …"
      ]
     },
     "metadata": {},
     "output_type": "display_data"
    }
   ],
   "source": [
    "x_dummies = np.linspace(0.8*data['Q/k'].values[0],1.2*data['Q/k'].values[-1],100)\n",
    "y_fit = np.exp(popt[1])*x_dummies**popt[0]\n",
    "y_fit2 = pot_func(x_dummies,popt2[0],popt2[1])\n",
    "\n",
    "fig3, ax3 = plt.subplots()\n",
    "#ax3.set_ylim(0,500)\n",
    "#ax3.set_yscale('log')\n",
    "\n",
    "data_0500.plot(x = \"Q/k\",y = 'Droplet Size [nm]',yerr ='Deviation Droplets', kind = 'scatter',ax = ax3, color = 'tab:orange', label = '$\\kappa = 500$')\n",
    "data_1500.plot(x = \"Q/k\",y = 'Droplet Size [nm]',yerr ='Deviation Droplets', kind = 'scatter',ax = ax3, color = 'tab:red', label = '$\\kappa = 1500$')\n",
    "data_2000.plot(x = \"Q/k\",y = 'Droplet Size [nm]',yerr ='Deviation Droplets', kind = 'scatter',ax = ax3, color = 'tab:blue', label = '$\\kappa = 2000$')\n",
    "data_2500.plot(x = \"Q/k\",y = 'Droplet Size [nm]',yerr ='Deviation Droplets', kind = 'scatter',ax = ax3, color = 'tab:green', label = '$\\kappa = 2500$')\n",
    "data_5000.plot(x = \"Q/k\",y = 'Droplet Size [nm]',yerr ='Deviation Droplets', kind = 'scatter',ax = ax3, color = 'tab:purple', label = '$\\kappa = 5000$')\n",
    "ax3.plot(x_dummies,y_fit, label = '$%.2f \\cdot (Q/\\kappa)^{%.2f}$'%(popt[1],popt[0]), color = 'tab:blue')\n",
    "#\n",
    "handles, labels = ax3.get_legend_handles_labels()\n",
    "ax3.legend(handles[::-1], labels[::-1])\n",
    "ax3.set_ylabel('$d_D / nm$')\n",
    "#ax3.legend()\n",
    "ax3.set_xscale('log')\n",
    "ax3.set_xscale('log')"
   ]
  },
  {
   "cell_type": "code",
   "execution_count": 7,
   "metadata": {},
   "outputs": [],
   "source": [
    "#plt.close('all')"
   ]
  },
  {
   "cell_type": "code",
   "execution_count": null,
   "metadata": {},
   "outputs": [],
   "source": []
  }
 ],
 "metadata": {
  "kernelspec": {
   "display_name": "Python 3",
   "language": "python",
   "name": "python3"
  },
  "language_info": {
   "codemirror_mode": {
    "name": "ipython",
    "version": 3
   },
   "file_extension": ".py",
   "mimetype": "text/x-python",
   "name": "python",
   "nbconvert_exporter": "python",
   "pygments_lexer": "ipython3",
   "version": "3.8.5"
  }
 },
 "nbformat": 4,
 "nbformat_minor": 4
}
