{
 "cells": [
  {
   "cell_type": "code",
   "execution_count": 1,
   "metadata": {},
   "outputs": [],
   "source": [
    "import ipywidgets as widgets\n",
    "#from IPython.display import display\n",
    "import numpy as np\n",
    "import matplotlib.pyplot as plt\n",
    "import os\n",
    "from scipy.optimize import curve_fit\n",
    "%matplotlib widget\n",
    "import pandas as pd"
   ]
  },
  {
   "cell_type": "code",
   "execution_count": 12,
   "metadata": {},
   "outputs": [],
   "source": [
    "data = pd.read_excel('data_droplets.xlsx', sheet_name = 'Data')\n",
    "x = np.log(data['(Q/k)'].values)\n",
    "y = np.log(data['Droplet Size [nm]'].values)\n",
    "err_y = np.log(data['Deviation Droplets'])"
   ]
  },
  {
   "cell_type": "code",
   "execution_count": 13,
   "metadata": {},
   "outputs": [
    {
     "name": "stdout",
     "output_type": "stream",
     "text": [
      "[0.25063806 3.15359165]\n",
      "[1.14295491 7.986337  ]\n"
     ]
    }
   ],
   "source": [
    "def lin_func(x,m,n):\n",
    "    return m*x+n\n",
    "\n",
    "popt, pcov = curve_fit(lin_func,x,y,sigma = err_y,absolute_sigma = True)\n",
    "perr = np.sqrt(np.diag(pcov))\n",
    "print(popt)\n",
    "print(perr)"
   ]
  },
  {
   "cell_type": "code",
   "execution_count": 17,
   "metadata": {},
   "outputs": [
    {
     "data": {
      "application/vnd.jupyter.widget-view+json": {
       "model_id": "82a1a83e6b294866a5b5f93d81c72e33",
       "version_major": 2,
       "version_minor": 0
      },
      "text/plain": [
       "Canvas(toolbar=Toolbar(toolitems=[('Home', 'Reset original view', 'home', 'home'), ('Back', 'Back to previous …"
      ]
     },
     "metadata": {},
     "output_type": "display_data"
    }
   ],
   "source": [
    "fig1, ax1 = plt.subplots()\n",
    "#data.plot(x = \"(Q/k)^1/2\",y = 'Droplet Size [nm]', yerr = 'Deviation Droplets' ,kind = 'scatter', ax = ax1)\n",
    "ax1.errorbar(x,y,yerr = err_y, linestyle = 'none',marker = 'o')\n",
    "#ax1.set_xscale('log')\n",
    "ax1.set_xlabel('$ln(Q/\\kappa)$')\n",
    "ax1.set_ylabel('$ln(D_{Droplet})$')\n",
    "ax1.plot(x,lin_func(x,popt[0],popt[1]),'-', label ='linear fit: m = %.4f, n = %.4f' %(popt[0],popt[1]))\n",
    "ax1.legend(loc=2)\n",
    "plt.show()"
   ]
  },
  {
   "cell_type": "code",
   "execution_count": 18,
   "metadata": {},
   "outputs": [
    {
     "data": {
      "application/vnd.jupyter.widget-view+json": {
       "model_id": "e829bf1afa214fa19ba590acf8d21ced",
       "version_major": 2,
       "version_minor": 0
      },
      "text/plain": [
       "Canvas(toolbar=Toolbar(toolitems=[('Home', 'Reset original view', 'home', 'home'), ('Back', 'Back to previous …"
      ]
     },
     "metadata": {},
     "output_type": "display_data"
    }
   ],
   "source": [
    "new_x = data['(Q/k)'].values\n",
    "new_y = np.exp(popt[1])*new_x**popt[0]\n",
    "\n",
    "fig3, ax3 = plt.subplots()\n",
    "ax3.plot(new_x,new_y)\n",
    "data.plot(x = \"(Q/k)\",y = 'Droplet Size [nm]',yerr ='Deviation Droplets', kind = 'scatter',ax = ax3, color = 'tab:orange')\n",
    "ax3.set_xscale('log')"
   ]
  },
  {
   "cell_type": "code",
   "execution_count": null,
   "metadata": {},
   "outputs": [],
   "source": []
  }
 ],
 "metadata": {
  "kernelspec": {
   "display_name": "Python 3",
   "language": "python",
   "name": "python3"
  },
  "language_info": {
   "codemirror_mode": {
    "name": "ipython",
    "version": 3
   },
   "file_extension": ".py",
   "mimetype": "text/x-python",
   "name": "python",
   "nbconvert_exporter": "python",
   "pygments_lexer": "ipython3",
   "version": "3.8.5"
  }
 },
 "nbformat": 4,
 "nbformat_minor": 4
}
