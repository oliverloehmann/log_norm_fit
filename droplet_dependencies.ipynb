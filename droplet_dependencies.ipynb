{
 "cells": [
  {
   "cell_type": "code",
   "execution_count": 1,
   "metadata": {},
   "outputs": [],
   "source": [
    "import ipywidgets as widgets\n",
    "#from IPython.display import display\n",
    "import numpy as np\n",
    "import matplotlib.pyplot as plt\n",
    "import os\n",
    "from scipy.optimize import curve_fit\n",
    "%matplotlib widget\n",
    "import pandas as pd"
   ]
  },
  {
   "cell_type": "code",
   "execution_count": 2,
   "metadata": {},
   "outputs": [],
   "source": [
    "data = pd.read_excel('data_droplets.xlsx', sheet_name = 'Data', index_col = 0)\n",
    "data.sort_values(by=['Q/k'], inplace=True)\n",
    "x_dummies = np.linspace(0.8*data['Q/k'].values[0],1.2*data['Q/k'].values[-1],100)\n",
    "\n",
    "data_0500 = data.filter(like='0500', axis=0)\n",
    "data_1500 = data.filter(like='1500', axis=0)\n",
    "data_2000 = data.filter(like='2000', axis=0)\n",
    "data_2500 = data.filter(like='2500', axis=0)\n",
    "data_5000 = data.filter(like='5000', axis=0)"
   ]
  },
  {
   "cell_type": "code",
   "execution_count": 3,
   "metadata": {},
   "outputs": [
    {
     "name": "stdout",
     "output_type": "stream",
     "text": [
      "[-58.96657061  20.48759588]\n",
      "[0.87423042 0.08146408]\n",
      "[54.19495317  1.16773897  0.62333549]\n",
      "[2.38695513 0.12679051 0.01150242]\n"
     ]
    },
    {
     "data": {
      "application/vnd.jupyter.widget-view+json": {
       "model_id": "4732be12a0164b87ba7d2b4e2f87bfaa",
       "version_major": 2,
       "version_minor": 0
      },
      "text/plain": [
       "Canvas(toolbar=Toolbar(toolitems=[('Home', 'Reset original view', 'home', 'home'), ('Back', 'Back to previous …"
      ]
     },
     "metadata": {},
     "output_type": "display_data"
    }
   ],
   "source": [
    "def full_func(x,a,b):\n",
    "    return a + b*np.cbrt(x)\n",
    "\n",
    "def full_func_b(x,a,b,c):\n",
    "    return a + b*x**c\n",
    "\n",
    "popt_full, pcov_full = curve_fit(full_func,data['Q/k'].values,data['Droplet Size [nm]'].values, sigma = data['Deviation Droplets'].values, absolute_sigma = True)\n",
    "perr_full = np.sqrt(np.diag(pcov_full))\n",
    "print(popt_full)\n",
    "print(perr_full)\n",
    "\n",
    "popt_full_b, pcov_full_b = curve_fit(full_func_b,data['Q/k'].values,data['Droplet Size [nm]'].values, sigma = data['Deviation Droplets'].values, absolute_sigma = True)\n",
    "perr_full_b = np.sqrt(np.diag(pcov_full_b))\n",
    "print(popt_full_b)\n",
    "print(perr_full_b)\n",
    "\n",
    "fig2, ax2 = plt.subplots()\n",
    "data.plot(x = \"Q/k\",y = 'Droplet Size [nm]',yerr ='Deviation Droplets', kind = 'scatter', ax =ax2, marker = '.')\n",
    "ax2.plot(x_dummies, full_func(x_dummies,popt_full[0],popt_full[1]), label ='$%.2f + %.2f \\cdot (Q/\\kappa)^{1/3}$' %(popt_full[0],popt_full[1]))\n",
    "ax2.plot(x_dummies, full_func_b(x_dummies,popt_full_b[0],popt_full_b[1],popt_full_b[2]), label ='$%.2f + %.2f \\cdot (Q/\\kappa)^{%.2f}$' %(popt_full_b[0],popt_full_b[1],popt_full_b[2]))\n",
    "ax2.set_xscale('log')\n",
    "ax2.legend()\n",
    "ax2.grid()\n",
    "plt.show()"
   ]
  },
  {
   "cell_type": "code",
   "execution_count": 4,
   "metadata": {},
   "outputs": [
    {
     "name": "stdout",
     "output_type": "stream",
     "text": [
      "[0.41749204 2.1467259 ]\n",
      "[0.03407745 0.26076574]\n"
     ]
    },
    {
     "data": {
      "application/vnd.jupyter.widget-view+json": {
       "model_id": "610bc776076e49ba984383a8eb0d6ff2",
       "version_major": 2,
       "version_minor": 0
      },
      "text/plain": [
       "Canvas(toolbar=Toolbar(toolitems=[('Home', 'Reset original view', 'home', 'home'), ('Back', 'Back to previous …"
      ]
     },
     "metadata": {},
     "output_type": "display_data"
    }
   ],
   "source": [
    "x = np.log(data['Q/k'].values)\n",
    "y = np.log(data['Droplet Size [nm]'].values)\n",
    "err_y = (data['Deviation Droplets'].values/data['Droplet Size [nm]'].values)\n",
    "\n",
    "def lin_func(x,m,n):\n",
    "    return m*x+n\n",
    "\n",
    "popt, pcov = curve_fit(lin_func,x,y,sigma = err_y,absolute_sigma = False)\n",
    "perr = np.sqrt(np.diag(pcov))\n",
    "print(popt)\n",
    "print(perr)\n",
    "\n",
    "fig1, ax1 = plt.subplots()\n",
    "ax1.errorbar(x,y,err_y*x, linestyle = 'none',marker = 'o')\n",
    "#ax1.set_yscale('log')\n",
    "ax1.set_xlabel('$ln(Q/\\kappa)$')\n",
    "ax1.set_ylabel('$ln(D_{Droplet})$')\n",
    "ax1.plot(x,lin_func(x,popt[0],popt[1]),'-', label ='linear fit: m = %.4f, n = %.4f' %(popt[0],popt[1]))\n",
    "ax1.legend(loc=2)\n",
    "plt.show()"
   ]
  },
  {
   "cell_type": "code",
   "execution_count": 5,
   "metadata": {},
   "outputs": [
    {
     "data": {
      "application/vnd.jupyter.widget-view+json": {
       "model_id": "c1fdcb6aee1f460ab7b1db96431dc68f",
       "version_major": 2,
       "version_minor": 0
      },
      "text/plain": [
       "Canvas(toolbar=Toolbar(toolitems=[('Home', 'Reset original view', 'home', 'home'), ('Back', 'Back to previous …"
      ]
     },
     "metadata": {},
     "output_type": "display_data"
    }
   ],
   "source": [
    "fig3, ax3 = plt.subplots()\n",
    "data_0500.plot(x = \"Q/k\",y = 'Droplet Size [nm]',yerr ='Deviation Droplets', kind = 'scatter',ax = ax3, color = 'tab:orange', label = '$\\kappa = 500$')\n",
    "data_1500.plot(x = \"Q/k\",y = 'Droplet Size [nm]',yerr ='Deviation Droplets', kind = 'scatter',ax = ax3, color = 'tab:red', label = '$\\kappa = 1500$')\n",
    "data_2000.plot(x = \"Q/k\",y = 'Droplet Size [nm]',yerr ='Deviation Droplets', kind = 'scatter',ax = ax3, color = 'tab:blue', label = '$\\kappa = 2000$')\n",
    "data_2500.plot(x = \"Q/k\",y = 'Droplet Size [nm]',yerr ='Deviation Droplets', kind = 'scatter',ax = ax3, color = 'tab:green', label = '$\\kappa = 2500$')\n",
    "data_5000.plot(x = \"Q/k\",y = 'Droplet Size [nm]',yerr ='Deviation Droplets', kind = 'scatter',ax = ax3, color = 'tab:purple', label = '$\\kappa = 5000$')\n",
    "handles, labels = ax3.get_legend_handles_labels()\n",
    "ax3.legend(handles[::-1], labels[::-1])\n",
    "ax3.set_ylabel('$d_D / nm$')\n",
    "ax3.set_xscale('log')"
   ]
  },
  {
   "cell_type": "code",
   "execution_count": 6,
   "metadata": {},
   "outputs": [],
   "source": [
    "#plt.close('all')"
   ]
  },
  {
   "cell_type": "code",
   "execution_count": null,
   "metadata": {},
   "outputs": [],
   "source": []
  }
 ],
 "metadata": {
  "kernelspec": {
   "display_name": "Python 3",
   "language": "python",
   "name": "python3"
  },
  "language_info": {
   "codemirror_mode": {
    "name": "ipython",
    "version": 3
   },
   "file_extension": ".py",
   "mimetype": "text/x-python",
   "name": "python",
   "nbconvert_exporter": "python",
   "pygments_lexer": "ipython3",
   "version": "3.8.5"
  }
 },
 "nbformat": 4,
 "nbformat_minor": 4
}
