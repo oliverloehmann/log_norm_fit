{
 "cells": [
  {
   "cell_type": "code",
   "execution_count": 1,
   "metadata": {},
   "outputs": [],
   "source": [
    "import ipywidgets as widgets\n",
    "#from IPython.display import display\n",
    "import numpy as np\n",
    "import matplotlib.pyplot as plt\n",
    "import os\n",
    "from scipy.optimize import curve_fit\n",
    "%matplotlib widget\n",
    "import pandas as pd"
   ]
  },
  {
   "cell_type": "code",
   "execution_count": 2,
   "metadata": {},
   "outputs": [],
   "source": [
    "data = pd.read_excel('data_droplets.xlsx', sheet_name = 'Data')\n",
    "data.sort_values(by=['Q/k'], inplace=True)\n",
    "x = np.log(data['Q/k'].values)\n",
    "y = np.log(data['Droplet Size [nm]'].values)\n",
    "err_y = np.log(data['Deviation Droplets'])"
   ]
  },
  {
   "cell_type": "code",
   "execution_count": 3,
   "metadata": {},
   "outputs": [
    {
     "name": "stdout",
     "output_type": "stream",
     "text": [
      "[0.3182845  2.65330883]\n",
      "[1.13940881 7.92466863]\n"
     ]
    }
   ],
   "source": [
    "def lin_func(x,m,n):\n",
    "    return m*x+n\n",
    "\n",
    "popt, pcov = curve_fit(lin_func,x,y,sigma = err_y,absolute_sigma = True)\n",
    "perr = np.sqrt(np.diag(pcov))\n",
    "print(popt)\n",
    "print(perr)"
   ]
  },
  {
   "cell_type": "code",
   "execution_count": 4,
   "metadata": {},
   "outputs": [
    {
     "data": {
      "application/vnd.jupyter.widget-view+json": {
       "model_id": "734d1d0122b748529dad62bd89139eec",
       "version_major": 2,
       "version_minor": 0
      },
      "text/plain": [
       "Canvas(toolbar=Toolbar(toolitems=[('Home', 'Reset original view', 'home', 'home'), ('Back', 'Back to previous …"
      ]
     },
     "metadata": {},
     "output_type": "display_data"
    }
   ],
   "source": [
    "fig1, ax1 = plt.subplots()\n",
    "#data.plot(x = \"(Q/k)^1/2\",y = 'Droplet Size [nm]', yerr = 'Deviation Droplets' ,kind = 'scatter', ax = ax1)\n",
    "ax1.errorbar(x,y,yerr = err_y, linestyle = 'none',marker = 'o')\n",
    "#ax1.set_xscale('log')\n",
    "ax1.set_xlabel('$ln(Q/\\kappa)$')\n",
    "ax1.set_ylabel('$ln(D_{Droplet})$')\n",
    "ax1.plot(x,lin_func(x,popt[0],popt[1]),'-', label ='linear fit: m = %.4f, n = %.4f' %(popt[0],popt[1]))\n",
    "ax1.legend(loc=2)\n",
    "plt.show()"
   ]
  },
  {
   "cell_type": "code",
   "execution_count": 5,
   "metadata": {},
   "outputs": [
    {
     "data": {
      "application/vnd.jupyter.widget-view+json": {
       "model_id": "e66dd52c2b0d4415b4b57324bc287ee6",
       "version_major": 2,
       "version_minor": 0
      },
      "text/plain": [
       "Canvas(toolbar=Toolbar(toolitems=[('Home', 'Reset original view', 'home', 'home'), ('Back', 'Back to previous …"
      ]
     },
     "metadata": {},
     "output_type": "display_data"
    }
   ],
   "source": [
    "y_fit = np.exp(popt[1])*data['Q/k'].values**popt[0]\n",
    "\n",
    "fig3, ax3 = plt.subplots()\n",
    "ax3.plot(data['Q/k'].values,y_fit)\n",
    "data.plot(x = \"Q/k\",y = 'Droplet Size [nm]',yerr ='Deviation Droplets', kind = 'scatter',ax = ax3, color = 'tab:orange')\n",
    "ax3.set_xscale('log')"
   ]
  },
  {
   "cell_type": "code",
   "execution_count": null,
   "metadata": {},
   "outputs": [],
   "source": []
  }
 ],
 "metadata": {
  "kernelspec": {
   "display_name": "Python 3",
   "language": "python",
   "name": "python3"
  },
  "language_info": {
   "codemirror_mode": {
    "name": "ipython",
    "version": 3
   },
   "file_extension": ".py",
   "mimetype": "text/x-python",
   "name": "python",
   "nbconvert_exporter": "python",
   "pygments_lexer": "ipython3",
   "version": "3.8.5"
  }
 },
 "nbformat": 4,
 "nbformat_minor": 4
}
